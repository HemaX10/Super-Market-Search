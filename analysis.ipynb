{
 "cells": [
  {
   "cell_type": "code",
   "execution_count": 128,
   "metadata": {},
   "outputs": [],
   "source": [
    "import pandas as pd \n",
    "import glob\n",
    "import os\n",
    "%matplotlib inline"
   ]
  },
  {
   "cell_type": "code",
   "execution_count": 129,
   "metadata": {},
   "outputs": [
    {
     "name": "stderr",
     "output_type": "stream",
     "text": [
      "<string>:9: SyntaxWarning: invalid escape sequence '\\{'\n",
      "<>:5: SyntaxWarning: invalid escape sequence '\\e'\n",
      "<>:9: SyntaxWarning: invalid escape sequence '\\{'\n",
      "<>:9: SyntaxWarning: invalid escape sequence '\\e'\n",
      "<string>:9: SyntaxWarning: invalid escape sequence '\\{'\n",
      "<>:5: SyntaxWarning: invalid escape sequence '\\e'\n",
      "<>:9: SyntaxWarning: invalid escape sequence '\\{'\n",
      "<>:9: SyntaxWarning: invalid escape sequence '\\e'\n",
      "C:\\Users\\laptop clinic\\AppData\\Local\\Temp\\ipykernel_16916\\3073784831.py:5: SyntaxWarning: invalid escape sequence '\\e'\n",
      "  csv_files = [file for file in os.listdir('E:\\engenrring Hema\\FYE\\python course\\pandas\\problems\\Pandas-Data-Science-Tasks-master\\SalesAnalysis\\Sales_Data\\sales')]\n",
      "C:\\Users\\laptop clinic\\AppData\\Local\\Temp\\ipykernel_16916\\3073784831.py:9: SyntaxWarning: invalid escape sequence '\\{'\n",
      "  df = pd.read_csv(f'E:\\engenrring Hema\\FYE\\python course\\pandas\\problems\\Pandas-Data-Science-Tasks-master\\SalesAnalysis\\Sales_Data\\sales\\{file}')\n",
      "C:\\Users\\laptop clinic\\AppData\\Local\\Temp\\ipykernel_16916\\3073784831.py:9: SyntaxWarning: invalid escape sequence '\\e'\n",
      "  df = pd.read_csv(f'E:\\engenrring Hema\\FYE\\python course\\pandas\\problems\\Pandas-Data-Science-Tasks-master\\SalesAnalysis\\Sales_Data\\sales\\{file}')\n"
     ]
    }
   ],
   "source": [
    "# # first problem\n",
    "\n",
    "# #getting all files and read them \n",
    "\n",
    "csv_files = [file for file in os.listdir('E:\\engenrring Hema\\FYE\\python course\\pandas\\problems\\Pandas-Data-Science-Tasks-master\\SalesAnalysis\\Sales_Data\\sales')]\n",
    "\n",
    "dfs = []\n",
    "for file in csv_files :\n",
    "    df = pd.read_csv(f'E:\\engenrring Hema\\FYE\\python course\\pandas\\problems\\Pandas-Data-Science-Tasks-master\\SalesAnalysis\\Sales_Data\\sales\\{file}')\n",
    "    dfs.append(df)\n",
    "\n",
    "allData = pd.concat(dfs, ignore_index=True)\n",
    "\n",
    "allData.to_csv('allData.csv' , index=False)"
   ]
  },
  {
   "cell_type": "markdown",
   "metadata": {},
   "source": [
    "updating all Data"
   ]
  },
  {
   "cell_type": "code",
   "execution_count": 130,
   "metadata": {},
   "outputs": [],
   "source": [
    "#second problem \n",
    "\n",
    "#converting the na values into nan and droping the raws that it have it \n",
    "naValues = ['Order Date']\n",
    "allData = pd.read_csv('allData.csv' , na_values=naValues)\n",
    "\n",
    "#updating index of the data 04/19/19 08:46\n",
    "updateding = allData.dropna(subset=[\"Order Date\"] , inplace=True)\n",
    "\n",
    "#making the Data in the right way\n",
    "allData['Order Date'] = pd.to_datetime(allData['Order Date'] , format='%m/%d/%y %H:%M')\n",
    "\n",
    "allData.set_index(allData['Order Date'] , inplace=True)\n",
    "\n",
    "\n",
    "allData['MonthData'] = allData['Order Date'].dt.strftime('%B')\n",
    "allData['Quantity Ordered'] = allData['Quantity Ordered'].astype('int')\n",
    "\n",
    "### this is the number of quantity that has been bought form the store \n",
    "MonthValue = allData['Quantity Ordered'].resample('ME').sum()\n",
    "# MonthValue.plot()\n",
    "\n",
    "# we want to get how much earned in each month \n",
    "# first we will get how per order and make an column for it \n",
    "allData['Price Each'] = allData['Price Each'].astype('float')\n",
    "allData['MoneyEarnedPerOrder'] = allData['Price Each'] * allData['Quantity Ordered']\n",
    "\n",
    "#sum per month all the values\n",
    "monthMoneyEarned = allData['MoneyEarnedPerOrder'].resample('ME').sum()\n",
    "\n",
    "###getting cities\n",
    "\n",
    "def getCity(address) : \n",
    "    return address.split(',')[1]\n",
    "\n",
    "def getCityAdd(address) : \n",
    "    return address.split(',')[2].split(' ')[1]\n",
    "\n",
    "allData['Cities'] = allData['Purchase Address'].apply(lambda x: f\"{getCity(x)}({getCityAdd(x)})\")\n",
    "\n",
    "allData['Cities'] = allData['Cities'].astype('string')\n",
    "# allData['Cities']\n",
    "# result = allData.groupby('Cities').sum()\n",
    "\n",
    "\n",
    "# allData['Cities'] = allData['Cities'].astype('string')\n",
    "# # resultByCities = allData.groupby('Cities').value()\n",
    "# # resultByCities\n",
    "\n"
   ]
  },
  {
   "cell_type": "markdown",
   "metadata": {},
   "source": [
    "Forth Problem "
   ]
  },
  {
   "cell_type": "code",
   "execution_count": 131,
   "metadata": {},
   "outputs": [],
   "source": [
    "#getting the most time that people buy on it to maintain advertisment\n",
    "\n",
    "allData['Hour'] = allData['Order Date'].dt.hour\n",
    "allData['Day'] = allData['Order Date'].dt.day\n",
    "mostCommonHour = allData['Hour'].value_counts()"
   ]
  },
  {
   "cell_type": "markdown",
   "metadata": {},
   "source": [
    "fifth Problem"
   ]
  },
  {
   "cell_type": "markdown",
   "metadata": {},
   "source": [
    "what is the most products that been sold together ?"
   ]
  },
  {
   "cell_type": "code",
   "execution_count": 132,
   "metadata": {},
   "outputs": [
    {
     "data": {
      "text/plain": [
       "1005"
      ]
     },
     "execution_count": 132,
     "metadata": {},
     "output_type": "execute_result"
    }
   ],
   "source": [
    "from itertools import combinations\n",
    "\n",
    "orderGroup = allData.groupby('Order ID')['Product'].apply(list)\n",
    "\n",
    "\n",
    "all_combinations = [list(combinations(products, 2)) for products in orderGroup]\n",
    "\n",
    "\n",
    "all_combinations_flat = [item for sublist in all_combinations for item in sublist]\n",
    "all_combinations_flat\n",
    "\n",
    "combination_counts = pd.Series(all_combinations_flat).value_counts()\n",
    "\n",
    "# # Display the most frequently occurring combination\n",
    "most_common_combination = combination_counts.max()\n",
    "most_common_combination"
   ]
  }
 ],
 "metadata": {
  "kernelspec": {
   "display_name": "Python 3",
   "language": "python",
   "name": "python3"
  },
  "language_info": {
   "codemirror_mode": {
    "name": "ipython",
    "version": 3
   },
   "file_extension": ".py",
   "mimetype": "text/x-python",
   "name": "python",
   "nbconvert_exporter": "python",
   "pygments_lexer": "ipython3",
   "version": "3.12.1"
  }
 },
 "nbformat": 4,
 "nbformat_minor": 2
}
